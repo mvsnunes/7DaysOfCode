{
 "cells": [
  {
   "cell_type": "markdown",
   "metadata": {},
   "source": [
    "## Auxiliary Functions"
   ]
  },
  {
   "cell_type": "code",
   "execution_count": 65,
   "metadata": {},
   "outputs": [],
   "source": [
    "def udc_mapping(code):\n",
    "    if code >= 0 and code < 99:\n",
    "        return \"General\"\n",
    "    elif code >=100 and code <199:\n",
    "        return \"Philosophy. Psychology\"\n",
    "    elif code >=200 and code <299:\n",
    "        return \"Religion. Theology\"\n",
    "    elif code >=300 and code <399:\n",
    "        return \"Social Sciences\"\n",
    "    elif code >=400 and code <499:\n",
    "        return \"Vacant\"\n",
    "    elif code >=500 and code <599:\n",
    "        return \"Mathematics. Natural Sciences\"\n",
    "    elif code >=600 and code <699:\n",
    "        return \"Applied Sciences. Medicine, Technology\"\n",
    "    elif code >=700 and code <799:\n",
    "        return \"The Arts. Entertainment. Sport\"\n",
    "    elif code >=800 and code <899:\n",
    "        return \"Linguistics. Literature\"\n",
    "    elif code >=900 and code <999:\n",
    "        return \"Geography. History\""
   ]
  },
  {
   "cell_type": "markdown",
   "metadata": {},
   "source": [
    "# Import Libraries"
   ]
  },
  {
   "cell_type": "code",
   "execution_count": 9,
   "metadata": {},
   "outputs": [],
   "source": [
    "import pandas as pd\n",
    "from bs4 import BeautifulSoup as bs\n",
    "import requests"
   ]
  },
  {
   "cell_type": "markdown",
   "metadata": {},
   "source": [
    "# Load Data\n",
    "* The data is extracted directly from the GitHub repository.\n",
    "* The different tables are concatenated into a single dataframe."
   ]
  },
  {
   "cell_type": "code",
   "execution_count": 23,
   "metadata": {},
   "outputs": [],
   "source": [
    "url='https://github.com/FranciscoFoz/7_Days_of_Code_Alura-Python-Pandas/tree/main/Dia_1-Importando_dados/Datasets/dados_emprestimos?raw=true'\n",
    "with requests.Session() as req:\n",
    "        r = req.get(url)\n",
    "        soup = bs(r.content, 'html.parser')\n",
    "        target = [f\"{url[:18]}{item['href']}\" for item in soup.select(\n",
    "            \"a[href$='.csv']\")]\n",
    "\n",
    "seen = set()\n",
    "all_files = []\n",
    "for item in target:\n",
    "    if item not in seen:\n",
    "        seen.add(item)\n",
    "        all_files.append(item)\n",
    " \n",
    "df=pd.DataFrame()\n",
    "\n",
    "for x in all_files:\n",
    "    path= x +'?raw=true'\n",
    "    df_aux=pd.read_csv(path)\n",
    "    df=pd.concat([df,df_aux],ignore_index=True)\n",
    "             \n"
   ]
  },
  {
   "cell_type": "code",
   "execution_count": 24,
   "metadata": {},
   "outputs": [
    {
     "name": "stdout",
     "output_type": "stream",
     "text": [
      "<class 'pandas.core.frame.DataFrame'>\n",
      "RangeIndex: 2258018 entries, 0 to 2258017\n",
      "Data columns (total 7 columns):\n",
      " #   Column                Dtype  \n",
      "---  ------                -----  \n",
      " 0   id_emprestimo         int64  \n",
      " 1   codigo_barras         object \n",
      " 2   data_renovacao        object \n",
      " 3   data_emprestimo       object \n",
      " 4   data_devolucao        object \n",
      " 5   matricula_ou_siape    float64\n",
      " 6   tipo_vinculo_usuario  object \n",
      "dtypes: float64(1), int64(1), object(5)\n",
      "memory usage: 120.6+ MB\n"
     ]
    }
   ],
   "source": [
    "df.info()"
   ]
  },
  {
   "cell_type": "code",
   "execution_count": 25,
   "metadata": {},
   "outputs": [
    {
     "name": "stdout",
     "output_type": "stream",
     "text": [
      "<class 'pandas.core.frame.DataFrame'>\n",
      "Index: 546237 entries, 0 to 568584\n",
      "Data columns (total 7 columns):\n",
      " #   Column            Non-Null Count   Dtype \n",
      "---  ------            --------------   ----- \n",
      " 0   id_exemplar       546237 non-null  int64 \n",
      " 1   codigo_barras     546237 non-null  object\n",
      " 2   colecao           546237 non-null  object\n",
      " 3   biblioteca        546237 non-null  object\n",
      " 4   status_material   546237 non-null  object\n",
      " 5   localizacao       546237 non-null  int64 \n",
      " 6   registro_sistema  546237 non-null  int64 \n",
      "dtypes: int64(3), object(4)\n",
      "memory usage: 33.3+ MB\n"
     ]
    }
   ],
   "source": [
    "df_books = pd.read_parquet('https://github.com/FranciscoFoz/7_Days_of_Code_Alura-Python-Pandas/raw/main/Dia_1-Importando_dados/Datasets/dados_exemplares.parquet')\n",
    "df_books.info()"
   ]
  },
  {
   "cell_type": "markdown",
   "metadata": {},
   "source": [
    "# Data Preprocessing"
   ]
  },
  {
   "cell_type": "markdown",
   "metadata": {},
   "source": [
    "Drop unused columns."
   ]
  },
  {
   "cell_type": "code",
   "execution_count": 26,
   "metadata": {},
   "outputs": [],
   "source": [
    "df_books=df_books.drop('registro_sistema',axis=1)"
   ]
  },
  {
   "cell_type": "markdown",
   "metadata": {},
   "source": [
    "Removing duplicates."
   ]
  },
  {
   "cell_type": "code",
   "execution_count": 59,
   "metadata": {},
   "outputs": [
    {
     "name": "stdout",
     "output_type": "stream",
     "text": [
      "Number of Duplicates of First DF:  37\n",
      "Number of Duplicates of Second DF:  0\n"
     ]
    }
   ],
   "source": [
    "print(\"Number of Duplicates of First DF: \",df.duplicated().sum())\n",
    "\n",
    "df_clean=df.drop_duplicates();\n",
    "\n",
    "print(\"Number of Duplicates of Second DF: \",df_books.duplicated().sum())\n",
    "\n",
    "df_books_clean=df_books.drop_duplicates();"
   ]
  },
  {
   "cell_type": "markdown",
   "metadata": {},
   "source": [
    "Data type conversion."
   ]
  },
  {
   "cell_type": "code",
   "execution_count": 60,
   "metadata": {},
   "outputs": [],
   "source": [
    "matricula_ou_siape_str = df_clean['matricula_ou_siape'].astype('string').to_frame()\n",
    "df_clean=df_clean.drop('matricula_ou_siape',axis=1)\n",
    "df_clean.insert(5, 'matricula_ou_siape', matricula_ou_siape_str)\n"
   ]
  },
  {
   "cell_type": "markdown",
   "metadata": {},
   "source": [
    "To improve the readability of the “localizacao” column, the universal decimal classification (UDC) will be used. Therefore, a UDC column will be added to the original dataframe, mapping the values of the “localizacao” column.\n",
    "\n",
    "The mapping will follow the main classes shown in the table below.\n",
    "\n",
    "| **Notation** | **Description**                                                                                                                      |\n",
    "|--------------|--------------------------------------------------------------------------------------------------------------------------------------|\n",
    "| 000 to 099   | Science and Knowledge. Organization. Computer Science. Information Science. Documentation. Librarianship. Institutions. Publications |\n",
    "| 100 to 199   | Philosophy. Psychology                                                                                                               |\n",
    "| 200 to 299   | Religion. Theology                                                                                                                   |\n",
    "| 300 to 399   | Social Sciences                                                                                                                      |\n",
    "| 400 to 499   | vacant                                                                                                                               |\n",
    "| 500 to 599   | Mathematics. Natural Sciences                                                                                                        |\n",
    "| 600 to 699   | Applied Sciences. Medicine, Technology                                                                                               |\n",
    "| 700 to 799   | The Arts. Entertainment. Sport                                                                                                       |\n",
    "| 800 to 899   | Linguistics. Literature                                                                                                              |\n",
    "| 900 to 999   | Geography. History                                                                                                                   |\n",
    "\n",
    "First, it's necessary to check that all the values are within the range in the table."
   ]
  },
  {
   "cell_type": "code",
   "execution_count": 64,
   "metadata": {},
   "outputs": [
    {
     "name": "stdout",
     "output_type": "stream",
     "text": [
      "Out of Range Values:  0\n"
     ]
    }
   ],
   "source": [
    "print(\"Out of Range Values: \",len(df_books_clean.query(\"localizacao<0 or localizacao>999\")))"
   ]
  },
  {
   "cell_type": "code",
   "execution_count": 72,
   "metadata": {},
   "outputs": [],
   "source": [
    "df_books_clean['udc']=list(map(udc_mapping,df_books_clean['localizacao']))"
   ]
  },
  {
   "cell_type": "markdown",
   "metadata": {},
   "source": [
    "Convert columns to datetime"
   ]
  },
  {
   "cell_type": "code",
   "execution_count": 81,
   "metadata": {},
   "outputs": [],
   "source": [
    "df_clean['data_emprestimo']=pd.to_datetime(df_clean['data_emprestimo'])\n",
    "df_clean['data_devolucao']=pd.to_datetime(df_clean['data_devolucao'])\n",
    "df_clean['data_renovacao']=pd.to_datetime(df_clean['data_renovacao'])"
   ]
  }
 ],
 "metadata": {
  "kernelspec": {
   "display_name": "Python 3",
   "language": "python",
   "name": "python3"
  },
  "language_info": {
   "codemirror_mode": {
    "name": "ipython",
    "version": 3
   },
   "file_extension": ".py",
   "mimetype": "text/x-python",
   "name": "python",
   "nbconvert_exporter": "python",
   "pygments_lexer": "ipython3",
   "version": "3.11.9"
  }
 },
 "nbformat": 4,
 "nbformat_minor": 2
}
