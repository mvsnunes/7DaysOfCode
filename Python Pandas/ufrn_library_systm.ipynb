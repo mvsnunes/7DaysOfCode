{
 "cells": [
  {
   "cell_type": "markdown",
   "metadata": {},
   "source": [
    "## Auxiliary Functions"
   ]
  },
  {
   "cell_type": "code",
   "execution_count": 7,
   "metadata": {},
   "outputs": [],
   "source": [
    "def udc_mapping(code):\n",
    "    if code >= 0 and code < 99:\n",
    "        return \"General\"\n",
    "    elif code >=100 and code <199:\n",
    "        return \"Philosophy. Psychology\"\n",
    "    elif code >=200 and code <299:\n",
    "        return \"Religion. Theology\"\n",
    "    elif code >=300 and code <399:\n",
    "        return \"Social Sciences\"\n",
    "    elif code >=400 and code <499:\n",
    "        return \"Vacant\"\n",
    "    elif code >=500 and code <599:\n",
    "        return \"Mathematics. Natural Sciences\"\n",
    "    elif code >=600 and code <699:\n",
    "        return \"Applied Sciences. Medicine, Technology\"\n",
    "    elif code >=700 and code <799:\n",
    "        return \"The Arts. Entertainment. Sport\"\n",
    "    elif code >=800 and code <899:\n",
    "        return \"Linguistics. Literature\"\n",
    "    elif code >=900 and code <999:\n",
    "        return \"Geography. History\""
   ]
  },
  {
   "cell_type": "markdown",
   "metadata": {},
   "source": [
    "# Import Libraries"
   ]
  },
  {
   "cell_type": "code",
   "execution_count": 8,
   "metadata": {},
   "outputs": [],
   "source": [
    "import pandas as pd\n",
    "from bs4 import BeautifulSoup as bs\n",
    "import requests\n",
    "import matplotlib.pyplot as plt\n",
    "from matplotlib.ticker import FuncFormatter"
   ]
  },
  {
   "cell_type": "markdown",
   "metadata": {},
   "source": [
    "# Load Data\n",
    "* The data is extracted directly from the GitHub repository.\n",
    "* The different tables are concatenated into a single dataframe."
   ]
  },
  {
   "cell_type": "code",
   "execution_count": 15,
   "metadata": {},
   "outputs": [],
   "source": [
    "url='https://github.com/FranciscoFoz/7_Days_of_Code_Alura-Python-Pandas/tree/main/Dia_1-Importando_dados/Datasets/dados_emprestimos?raw=true'\n",
    "with requests.Session() as req:\n",
    "        r = req.get(url)\n",
    "        soup = bs(r.content, 'html.parser')\n",
    "        target = [f\"{url[:18]}{item['href']}\" for item in soup.select(\n",
    "            \"a[href$='.csv']\")]\n",
    "\n",
    "seen = set()\n",
    "all_files = []\n",
    "for item in target:\n",
    "    if item not in seen:\n",
    "        seen.add(item)\n",
    "        all_files.append(item)\n",
    " \n",
    "df=pd.DataFrame()\n",
    "\n",
    "for x in all_files:\n",
    "    path= x +'?raw=true'\n",
    "    df_aux=pd.read_csv(path)\n",
    "    df=pd.concat([df,df_aux],ignore_index=True)\n",
    "             \n"
   ]
  },
  {
   "cell_type": "code",
   "execution_count": 16,
   "metadata": {},
   "outputs": [
    {
     "name": "stdout",
     "output_type": "stream",
     "text": [
      "<class 'pandas.core.frame.DataFrame'>\n",
      "RangeIndex: 2258018 entries, 0 to 2258017\n",
      "Data columns (total 7 columns):\n",
      " #   Column                Dtype  \n",
      "---  ------                -----  \n",
      " 0   id_emprestimo         int64  \n",
      " 1   codigo_barras         object \n",
      " 2   data_renovacao        object \n",
      " 3   data_emprestimo       object \n",
      " 4   data_devolucao        object \n",
      " 5   matricula_ou_siape    float64\n",
      " 6   tipo_vinculo_usuario  object \n",
      "dtypes: float64(1), int64(1), object(5)\n",
      "memory usage: 120.6+ MB\n"
     ]
    }
   ],
   "source": [
    "df.info()"
   ]
  },
  {
   "cell_type": "code",
   "execution_count": 17,
   "metadata": {},
   "outputs": [
    {
     "name": "stdout",
     "output_type": "stream",
     "text": [
      "<class 'pandas.core.frame.DataFrame'>\n",
      "Index: 546237 entries, 0 to 568584\n",
      "Data columns (total 7 columns):\n",
      " #   Column            Non-Null Count   Dtype \n",
      "---  ------            --------------   ----- \n",
      " 0   id_exemplar       546237 non-null  int64 \n",
      " 1   codigo_barras     546237 non-null  object\n",
      " 2   colecao           546237 non-null  object\n",
      " 3   biblioteca        546237 non-null  object\n",
      " 4   status_material   546237 non-null  object\n",
      " 5   localizacao       546237 non-null  int64 \n",
      " 6   registro_sistema  546237 non-null  int64 \n",
      "dtypes: int64(3), object(4)\n",
      "memory usage: 33.3+ MB\n"
     ]
    }
   ],
   "source": [
    "df_books = pd.read_parquet('https://github.com/FranciscoFoz/7_Days_of_Code_Alura-Python-Pandas/raw/main/Dia_1-Importando_dados/Datasets/dados_exemplares.parquet')\n",
    "df_books.info()"
   ]
  },
  {
   "cell_type": "markdown",
   "metadata": {},
   "source": [
    "# Data Preprocessing"
   ]
  },
  {
   "cell_type": "markdown",
   "metadata": {},
   "source": [
    "Drop unused columns."
   ]
  },
  {
   "cell_type": "code",
   "execution_count": 18,
   "metadata": {},
   "outputs": [],
   "source": [
    "df_books=df_books.drop('registro_sistema',axis=1)"
   ]
  },
  {
   "cell_type": "markdown",
   "metadata": {},
   "source": [
    "Removing duplicates."
   ]
  },
  {
   "cell_type": "code",
   "execution_count": 19,
   "metadata": {},
   "outputs": [
    {
     "name": "stdout",
     "output_type": "stream",
     "text": [
      "Number of Duplicates of First DF:  37\n",
      "Number of Duplicates of Second DF:  0\n"
     ]
    }
   ],
   "source": [
    "print(\"Number of Duplicates of First DF: \",df.duplicated().sum())\n",
    "\n",
    "df_clean=df.drop_duplicates();\n",
    "\n",
    "print(\"Number of Duplicates of Second DF: \",df_books.duplicated().sum())\n",
    "\n",
    "df_books_clean=df_books.drop_duplicates();"
   ]
  },
  {
   "cell_type": "markdown",
   "metadata": {},
   "source": [
    "Data type conversion."
   ]
  },
  {
   "cell_type": "code",
   "execution_count": 20,
   "metadata": {},
   "outputs": [],
   "source": [
    "matricula_ou_siape_str = df_clean['matricula_ou_siape'].astype('string').to_frame()\n",
    "df_clean=df_clean.drop('matricula_ou_siape',axis=1)\n",
    "df_clean.insert(5, 'matricula_ou_siape', matricula_ou_siape_str)\n"
   ]
  },
  {
   "cell_type": "markdown",
   "metadata": {},
   "source": [
    "To improve the readability of the “localizacao” column, the universal decimal classification (UDC) will be used. Therefore, a UDC column will be added to the original dataframe, mapping the values of the “localizacao” column.\n",
    "\n",
    "The mapping will follow the main classes shown in the table below.\n",
    "\n",
    "| **Notation** | **Description**                                                                                                                      |\n",
    "|--------------|--------------------------------------------------------------------------------------------------------------------------------------|\n",
    "| 000 to 099   | Science and Knowledge. Organization. Computer Science. Information Science. Documentation. Librarianship. Institutions. Publications |\n",
    "| 100 to 199   | Philosophy. Psychology                                                                                                               |\n",
    "| 200 to 299   | Religion. Theology                                                                                                                   |\n",
    "| 300 to 399   | Social Sciences                                                                                                                      |\n",
    "| 400 to 499   | vacant                                                                                                                               |\n",
    "| 500 to 599   | Mathematics. Natural Sciences                                                                                                        |\n",
    "| 600 to 699   | Applied Sciences. Medicine, Technology                                                                                               |\n",
    "| 700 to 799   | The Arts. Entertainment. Sport                                                                                                       |\n",
    "| 800 to 899   | Linguistics. Literature                                                                                                              |\n",
    "| 900 to 999   | Geography. History                                                                                                                   |\n",
    "\n",
    "First, it's necessary to check that all the values are within the range in the table."
   ]
  },
  {
   "cell_type": "code",
   "execution_count": 21,
   "metadata": {},
   "outputs": [
    {
     "name": "stdout",
     "output_type": "stream",
     "text": [
      "Out of Range Values:  0\n"
     ]
    }
   ],
   "source": [
    "print(\"Out of Range Values: \",len(df_books_clean.query(\"localizacao<0 or localizacao>999\")))"
   ]
  },
  {
   "cell_type": "code",
   "execution_count": 22,
   "metadata": {},
   "outputs": [],
   "source": [
    "df_books_clean['udc']=list(map(udc_mapping,df_books_clean['localizacao']))"
   ]
  },
  {
   "cell_type": "markdown",
   "metadata": {},
   "source": [
    "Convert columns to datetime"
   ]
  },
  {
   "cell_type": "code",
   "execution_count": 23,
   "metadata": {},
   "outputs": [],
   "source": [
    "df_clean['data_emprestimo']=pd.to_datetime(df_clean['data_emprestimo'])\n",
    "df_clean['data_devolucao']=pd.to_datetime(df_clean['data_devolucao'])\n",
    "df_clean['data_renovacao']=pd.to_datetime(df_clean['data_renovacao'])"
   ]
  },
  {
   "cell_type": "code",
   "execution_count": 24,
   "metadata": {},
   "outputs": [
    {
     "data": {
      "text/html": [
       "<div>\n",
       "<style scoped>\n",
       "    .dataframe tbody tr th:only-of-type {\n",
       "        vertical-align: middle;\n",
       "    }\n",
       "\n",
       "    .dataframe tbody tr th {\n",
       "        vertical-align: top;\n",
       "    }\n",
       "\n",
       "    .dataframe thead th {\n",
       "        text-align: right;\n",
       "    }\n",
       "</style>\n",
       "<table border=\"1\" class=\"dataframe\">\n",
       "  <thead>\n",
       "    <tr style=\"text-align: right;\">\n",
       "      <th></th>\n",
       "      <th>id_emprestimo</th>\n",
       "      <th>codigo_barras</th>\n",
       "      <th>data_renovacao</th>\n",
       "      <th>data_emprestimo</th>\n",
       "      <th>data_devolucao</th>\n",
       "      <th>matricula_ou_siape</th>\n",
       "      <th>tipo_vinculo_usuario</th>\n",
       "    </tr>\n",
       "  </thead>\n",
       "  <tbody>\n",
       "    <tr>\n",
       "      <th>0</th>\n",
       "      <td>709684</td>\n",
       "      <td>L095049</td>\n",
       "      <td>NaT</td>\n",
       "      <td>2010-01-04 07:44:10.721</td>\n",
       "      <td>2010-01-05 16:26:12.662</td>\n",
       "      <td>2008023265.0</td>\n",
       "      <td>ALUNO DE GRADUAÇÃO</td>\n",
       "    </tr>\n",
       "    <tr>\n",
       "      <th>1</th>\n",
       "      <td>709685</td>\n",
       "      <td>L167050</td>\n",
       "      <td>NaT</td>\n",
       "      <td>2010-01-04 07:44:10.750</td>\n",
       "      <td>2010-01-12 07:34:13.934</td>\n",
       "      <td>2008023265.0</td>\n",
       "      <td>ALUNO DE GRADUAÇÃO</td>\n",
       "    </tr>\n",
       "    <tr>\n",
       "      <th>2</th>\n",
       "      <td>709686</td>\n",
       "      <td>2006017618</td>\n",
       "      <td>2010-01-26 08:07:01.738</td>\n",
       "      <td>2010-01-04 08:08:44.081</td>\n",
       "      <td>2010-02-25 07:36:25.800</td>\n",
       "      <td>2008112114.0</td>\n",
       "      <td>ALUNO DE PÓS-GRADUAÇÃO</td>\n",
       "    </tr>\n",
       "    <tr>\n",
       "      <th>3</th>\n",
       "      <td>709687</td>\n",
       "      <td>L184117</td>\n",
       "      <td>2010-01-18 11:07:46.470</td>\n",
       "      <td>2010-01-04 08:24:21.284</td>\n",
       "      <td>2010-02-03 08:58:45.692</td>\n",
       "      <td>200721119.0</td>\n",
       "      <td>ALUNO DE GRADUAÇÃO</td>\n",
       "    </tr>\n",
       "    <tr>\n",
       "      <th>8</th>\n",
       "      <td>709688</td>\n",
       "      <td>2007027500</td>\n",
       "      <td>2010-01-19 15:59:26.464</td>\n",
       "      <td>2010-01-04 08:27:33.569</td>\n",
       "      <td>2010-02-03 13:06:30.662</td>\n",
       "      <td>2009045971.0</td>\n",
       "      <td>ALUNO DE GRADUAÇÃO</td>\n",
       "    </tr>\n",
       "  </tbody>\n",
       "</table>\n",
       "</div>"
      ],
      "text/plain": [
       "   id_emprestimo codigo_barras          data_renovacao  \\\n",
       "0         709684       L095049                     NaT   \n",
       "1         709685       L167050                     NaT   \n",
       "2         709686    2006017618 2010-01-26 08:07:01.738   \n",
       "3         709687       L184117 2010-01-18 11:07:46.470   \n",
       "8         709688    2007027500 2010-01-19 15:59:26.464   \n",
       "\n",
       "          data_emprestimo          data_devolucao matricula_ou_siape  \\\n",
       "0 2010-01-04 07:44:10.721 2010-01-05 16:26:12.662       2008023265.0   \n",
       "1 2010-01-04 07:44:10.750 2010-01-12 07:34:13.934       2008023265.0   \n",
       "2 2010-01-04 08:08:44.081 2010-02-25 07:36:25.800       2008112114.0   \n",
       "3 2010-01-04 08:24:21.284 2010-02-03 08:58:45.692        200721119.0   \n",
       "8 2010-01-04 08:27:33.569 2010-02-03 13:06:30.662       2009045971.0   \n",
       "\n",
       "     tipo_vinculo_usuario  \n",
       "0      ALUNO DE GRADUAÇÃO  \n",
       "1      ALUNO DE GRADUAÇÃO  \n",
       "2  ALUNO DE PÓS-GRADUAÇÃO  \n",
       "3      ALUNO DE GRADUAÇÃO  \n",
       "8      ALUNO DE GRADUAÇÃO  "
      ]
     },
     "execution_count": 24,
     "metadata": {},
     "output_type": "execute_result"
    }
   ],
   "source": [
    "df_clean.head()"
   ]
  },
  {
   "cell_type": "markdown",
   "metadata": {},
   "source": [
    "## Exploratory Data Analysis"
   ]
  },
  {
   "cell_type": "markdown",
   "metadata": {},
   "source": [
    "### Loans per Year"
   ]
  },
  {
   "cell_type": "code",
   "execution_count": 25,
   "metadata": {},
   "outputs": [
    {
     "data": {
      "image/png": "[encoded data removed]",
      "text/plain": [
       "<Figure size 640x480 with 1 Axes>"
      ]
     },
     "metadata": {},
     "output_type": "display_data"
    }
   ],
   "source": [
    "df_clean['year']=df_clean['data_emprestimo'].dt.strftime('%Y')\n",
    "loans_per_year=df_clean['year'].value_counts().sort_index()\n",
    "\n",
    "fig, ax = plt.subplots()\n",
    "\n",
    "ax.spines[\"right\"].set_visible(False)\n",
    "ax.spines[\"left\"].set_visible(False)\n",
    "ax.spines[\"top\"].set_visible(False)\n",
    "\n",
    "ax.yaxis.set_ticks_position(\"left\")\n",
    "ax.xaxis.set_ticks_position(\"bottom\")\n",
    "\n",
    "ax.set_xlabel(\"Year\")\n",
    "ax.set_ylabel(\"Amount\")\n",
    "\n",
    "ax.get_yaxis().set_major_formatter(FuncFormatter(lambda x, p: format(int(x), ',')))\n",
    "\n",
    "\n",
    "ax.plot(loans_per_year.index, loans_per_year.values)\n",
    "\n",
    "plt.title(\"Loans per Year\")\n",
    "\n",
    "plt.grid()\n",
    "\n",
    "plt.show()\n"
   ]
  },
  {
   "cell_type": "markdown",
   "metadata": {},
   "source": [
    "Loan numbers increased until 2013. From 2013 to 2015, there was a significant decline. The period from 2015 to 2017 experienced relative stability, followed by a steep decrease until 2020."
   ]
  },
  {
   "cell_type": "markdown",
   "metadata": {},
   "source": [
    "### Distribution of Loans per Month"
   ]
  },
  {
   "cell_type": "code",
   "execution_count": 27,
   "metadata": {},
   "outputs": [
    {
     "data": {
      "image/png": "[encoded data removed]",
      "text/plain": [
       "<Figure size 640x480 with 1 Axes>"
      ]
     },
     "metadata": {},
     "output_type": "display_data"
    }
   ],
   "source": [
    "df_clean['month']=df_clean['data_emprestimo'].dt.strftime('%m')\n",
    "loans_per_month=df_clean['month'].value_counts().sort_index()\n",
    "\n",
    "fig, ax = plt.subplots()\n",
    "\n",
    "ax.spines[\"right\"].set_visible(False)\n",
    "ax.spines[\"left\"].set_visible(False)\n",
    "ax.spines[\"top\"].set_visible(False)\n",
    "\n",
    "ax.yaxis.set_ticks_position(\"left\")\n",
    "ax.xaxis.set_ticks_position(\"bottom\")\n",
    "\n",
    "ax.set_xlabel(\"Month\")\n",
    "ax.set_ylabel(\"Amount\")\n",
    "\n",
    "ax.get_yaxis().set_major_formatter(FuncFormatter(lambda x, p: format(int(x), ',')))\n",
    "\n",
    "\n",
    "ax.bar(loans_per_month.index, loans_per_month.values)\n",
    "\n",
    "plt.title(\"Loans per Month\")\n",
    "\n",
    "plt.show()"
   ]
  }
 ],
 "metadata": {
  "kernelspec": {
   "display_name": "Python 3",
   "language": "python",
   "name": "python3"
  },
  "language_info": {
   "codemirror_mode": {
    "name": "ipython",
    "version": 3
   },
   "file_extension": ".py",
   "mimetype": "text/x-python",
   "name": "python",
   "nbconvert_exporter": "python",
   "pygments_lexer": "ipython3",
   "version": "3.10.5"
  }
 },
 "nbformat": 4,
 "nbformat_minor": 2
}
